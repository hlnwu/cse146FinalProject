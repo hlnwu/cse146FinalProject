{
 "cells": [
  {
   "cell_type": "markdown",
   "metadata": {},
   "source": [
    "Data set: https://data.iowa.gov/Correctional-System/3-Year-Recidivism-for-Offenders-Released-from-Pris/mw8r-vqy4"
   ]
  },
  {
   "cell_type": "code",
   "execution_count": null,
   "metadata": {},
   "outputs": [],
   "source": [
    "import pandas as pd\n",
    "import matplotlib.pyplot as plt\n",
    "import numpy as np"
   ]
  },
  {
   "cell_type": "code",
   "execution_count": null,
   "metadata": {},
   "outputs": [],
   "source": [
    "# load the data set into a pandas data frame\n",
    "iowa_df = pd.read_csv(\"3-Year_Recidivism_for_Offenders_Released_from_Prison_in_Iowa.csv\")\n",
    "\n",
    "# iowa_df.head(5) # Show the first 5 rows of the dataframe"
   ]
  },
  {
   "cell_type": "code",
   "execution_count": null,
   "metadata": {
    "scrolled": false
   },
   "outputs": [],
   "source": [
    "# printing out unique values of a column\n",
    "# iowa_df['Race - Ethnicity'].unique()"
   ]
  },
  {
   "cell_type": "code",
   "execution_count": null,
   "metadata": {},
   "outputs": [],
   "source": [
    "drop_row_list = ['White -', 'Black -', 'N/A -', np.nan]\n",
    "\n",
    "iowa_clean_df = iowa_df[~iowa_df['Race - Ethnicity'].isin(drop_row_list)]\n"
   ]
  },
  {
   "cell_type": "code",
   "execution_count": null,
   "metadata": {},
   "outputs": [],
   "source": [
    "features_list = ['Release Type', 'Age At Release ', 'Offense Classification', 'Offense Type', 'Target Population']\n",
    "\n",
    "features_df = iowa_clean_df[features_list]\n",
    "# print(type(features_df))\n",
    "labels_df = iowa_clean_df[['Return to Prison']]\n"
   ]
  },
  {
   "cell_type": "code",
   "execution_count": null,
   "metadata": {
    "scrolled": true
   },
   "outputs": [],
   "source": [
    "# gets the ethnicity count and the gender count within each ethnicity group\n",
    "ethnic_gender_series = iowa_clean_df.groupby(['Race - Ethnicity', 'Sex']).count()['Fiscal Year Released']\n",
    "ethnic_gender_series"
   ]
  },
  {
   "cell_type": "code",
   "execution_count": null,
   "metadata": {},
   "outputs": [],
   "source": [
    "# separating list out by male and female to create stacked bar plot\n",
    "female_count_list = []\n",
    "male_count_list = []\n",
    "for i in range(ethnic_gender_series.size):\n",
    "    idx = i\n",
    "    if (idx) % 2 == 0:\n",
    "        male_count_list.append(ethnic_gender_series[idx])\n",
    "    else:\n",
    "        female_count_list.append(ethnic_gender_series[idx])\n",
    "        \n",
    "print(male_count_list)\n",
    "print(female_count_list)\n",
    "\n",
    "female_count_list.insert(2, 0)\n",
    "print(female_count_list)"
   ]
  },
  {
   "cell_type": "code",
   "execution_count": null,
   "metadata": {},
   "outputs": [],
   "source": [
    "# create the stacked bar plot\n",
    "width = 0.5\n",
    "ind = np.arange(8) \n",
    "\n",
    "p1 = plt.bar(ind, male_count_list, width)\n",
    "p2 = plt.bar(ind, female_count_list, width, bottom=male_count_list)\n",
    "\n",
    "ethnic_list = ['American Indian or Alaska Native - Hispanic', \\\n",
    "               'American Indian or Alaska Native - Non-Hispanic', \\\n",
    "               'Asian or Pacific Islander - Hispanic', \\\n",
    "               'Asian or Pacific Islander - Non-Hispanic', \\\n",
    "               'Black - Hispanic', \\\n",
    "               'Black - Non-Hispanic', \\\n",
    "               'White - Hispanic', \\\n",
    "               'White - Non-Hispanic']\n",
    "\n",
    "\n",
    "# ethnic_list = iowa_clean_df['Race - Ethnicity'].unique()\n",
    "\n",
    "plt.title('Count by Ethnicity and Gender')\n",
    "plt.ylabel('Number of Convicted')\n",
    "plt.xticks(ind, ethnic_list, rotation=90)\n",
    "plt.yticks(np.arange(0, 1000, 1000))\n",
    "plt.legend((p1[0], p2[0]), ('Male', 'Female'))\n",
    "\n",
    "plt.show()"
   ]
  },
  {
   "cell_type": "markdown",
   "metadata": {},
   "source": [
    "split data set on race\n",
    "- before train eliminate race column\n",
    "- proxy variables that predict for race\n",
    "- treat race as independent variable\n",
    "  - predict race\n",
    "- blindness != feature is gone\n",
    "\n",
    "protected attributes"
   ]
  },
  {
   "cell_type": "markdown",
   "metadata": {},
   "source": [
    "### Neural Network reference:\n",
    "https://towardsdatascience.com/how-to-build-your-own-neural-network-from-scratch-in-python-68998a08e4f6 <br>\n",
    "https://towardsdatascience.com/inroduction-to-neural-networks-in-python-7e0b422e6c24"
   ]
  },
  {
   "cell_type": "code",
   "execution_count": null,
   "metadata": {},
   "outputs": [],
   "source": [
    "class NeuralNetwork:\n",
    "    def __init__(self, x, y):\n",
    "        self.input      = x\n",
    "        self.weights1   = np.random.rand(self.input.shape[1],4) \n",
    "        self.weights2   = np.random.rand(4,1)                 \n",
    "        self.y          = y\n",
    "        self.output     = np.zeros(self.y.shape)\n",
    "    "
   ]
  },
  {
   "cell_type": "code",
   "execution_count": null,
   "metadata": {},
   "outputs": [],
   "source": []
  },
  {
   "cell_type": "code",
   "execution_count": null,
   "metadata": {},
   "outputs": [],
   "source": []
  },
  {
   "cell_type": "code",
   "execution_count": null,
   "metadata": {},
   "outputs": [],
   "source": [
    "from sklearn import tree\n",
    "from sklearn.model_selection import train_test_split \n",
    "from sklearn.tree import DecisionTreeClassifier\n",
    "from sklearn import preprocessing\n",
    "from sklearn import metrics\n",
    "\n",
    "# le = preprocessing.LabelEncoder()\n",
    "enc = preprocessing.LabelBinarizer()\n",
    "copy = features_df\n",
    "categorical_feature_mask = copy.dtypes==object\n",
    "categorical_cols = copy.columns[categorical_feature_mask].tolist()\n",
    "copy = copy.replace(np.nan, -1)\n",
    "# copy = copy.apply(lambda col: le.fit_transform(col.astype(str)), axis=0, result_type='expand')\n",
    "print(copy.shape)\n",
    "for entry in categorical_cols:\n",
    "    copy.reset_index(drop=True, inplace=True)\n",
    "    enc.fit(copy[entry].astype(str))\n",
    "    transformed = enc.transform(copy[entry].astype(str))\n",
    "#     print(transformed.shape, copy.shape, \"Unqiues:\", copy[entry].unique() )\n",
    "    df = pd.DataFrame(transformed)\n",
    "    copy = pd.concat([copy, df], axis=1).drop([entry], axis=1)\n",
    "#     print(\"New size:\",copy.shape)\n",
    "print(copy.shape)\n",
    "x_train, x_test, y_train, y_test = train_test_split(copy, labels_df, test_size=0.2, random_state=3)\n",
    "index = -1\n",
    "max = -1\n",
    "for i in range(1,25):\n",
    "    dt = tree.DecisionTreeClassifier(max_depth=i)\n",
    "    dt.fit(x_train, y_train)\n",
    "    y_hat = dt.predict(x_test)\n",
    "    if (metrics.accuracy_score(y_test, y_hat) > max):\n",
    "        max = metrics.accuracy_score(y_test, y_hat)\n",
    "        index = i\n",
    "\n",
    "dt = tree.DecisionTreeClassifier(max_depth=index)\n",
    "dt.fit(x_train, y_train)\n",
    "y_hat = dt.predict(x_test)\n",
    "print(\"Accuracy:\",metrics.accuracy_score(y_test, y_hat))\n",
    "print(\"Precision:\",metrics.precision_score(y_test, y_hat, average=None, zero_division=1))\n",
    "print(\"Recall:\",metrics.recall_score(y_test, y_hat, average=None))\n"
   ]
  },
  {
   "cell_type": "code",
   "execution_count": null,
   "metadata": {},
   "outputs": [],
   "source": [
    "features_list2 = ['Return to Prison', 'New Offense Classification','New Offense Type', 'New Offense Sub Type', 'Recidivism Type', 'Release Type', 'Age At Release ', 'Offense Classification', 'Offense Type', 'Target Population']\n",
    "features_df2 = iowa_clean_df[features_list2]\n",
    "labels_df2 = iowa_clean_df[['Race - Ethnicity']]\n",
    "# labels_df2 = labels_df2.replace(np.nan, \"\")\n",
    "\n",
    "\n",
    "\n",
    "enc2 = preprocessing.LabelBinarizer()\n",
    "copy2 = features_df2\n",
    "categorical_feature_mask = copy2.dtypes==object\n",
    "categorical_cols = copy2.columns[categorical_feature_mask].tolist()\n",
    "copy2 = copy2.replace(np.nan, -1)\n",
    "print(copy2.shape)\n",
    "\n",
    "for entry in categorical_cols:\n",
    "    copy2.reset_index(drop=True, inplace=True)\n",
    "    enc2.fit(copy2[entry].astype(str))\n",
    "    transformed = enc2.transform(copy2[entry].astype(str))\n",
    "    df = pd.DataFrame(transformed)\n",
    "    copy2 = pd.concat([copy2, df], axis=1).drop([entry], axis=1)\n",
    "print(copy2.shape)\n",
    "\n",
    "x_train, x_test, y_train, y_test = train_test_split(copy2, labels_df2, test_size=0.2, random_state= 3)\n",
    "\n",
    "x_label = 'Max Depth'\n",
    "y_label = 'Test Error'\n",
    "plt.title('Depth vs Generalization Error')\n",
    "plt.xlabel(x_label)\n",
    "plt.ylabel(y_label)\n",
    "\n",
    "index = -1;\n",
    "max = -1;\n",
    "err2 = [];\n",
    "x_example = np.array(range(1,25));\n",
    "for i in range(1,25):\n",
    "    dt = tree.DecisionTreeClassifier(max_depth=i)\n",
    "    dt.fit(x_train, y_train)\n",
    "    y_hat = dt.predict(x_test)\n",
    "    err2.append(1 - metrics.accuracy_score(y_test, y_hat));\n",
    "    if (metrics.accuracy_score(y_test, y_hat) > max):\n",
    "        max = metrics.accuracy_score(y_test, y_hat)\n",
    "        index = i\n",
    "plt.plot(x_example, err2, color='blue', label='x_train');\n",
    "plt.legend()\n",
    "\n",
    "print(index)\n",
    "\n",
    "dt = tree.DecisionTreeClassifier(max_depth=index)\n",
    "dt.fit(x_train, y_train)\n",
    "y_hat = dt.predict(x_test)\n",
    "print(\"Accuracy:\",metrics.accuracy_score(y_test, y_hat))\n",
    "print(\"Precision:\",metrics.precision_score(y_test, y_hat, average=None, zero_division=1))\n",
    "print(\"Recall:\",metrics.recall_score(y_test, y_hat, average=None))\n",
    "\n",
    "print(\"CM: \", metrics.confusion_matrix(y_test, y_hat, labels=ethnic_list))"
   ]
  },
  {
   "cell_type": "code",
   "execution_count": null,
   "metadata": {},
   "outputs": [],
   "source": []
  },
  {
   "cell_type": "code",
   "execution_count": null,
   "metadata": {},
   "outputs": [],
   "source": []
  },
  {
   "cell_type": "code",
   "execution_count": null,
   "metadata": {},
   "outputs": [],
   "source": [
    "from sklearn.model_selection import train_test_split\n",
    "from sklearn.linear_model import LogisticRegression\n",
    "from sklearn import preprocessing\n",
    "\n",
    "print(features_df.columns)\n",
    "print(type(features_df))\n",
    "features_df[\"Release Type\"]=features_df[\"Release Type\"].astype(\"category\")\n",
    "features_df[\"Age At Release \"]=features_df[\"Age At Release \"].astype(\"category\")\n",
    "features_df[\"Offense Classification\"]=features_df[\"Offense Classification\"].astype(\"category\")\n",
    "features_df[\"Offense Type\"]=features_df[\"Offense Type\"].astype(\"category\")\n",
    "features_df[\"Target Population\"]=features_df[\"Target Population\"].astype(\"category\")\n",
    "labels_df[\"Return to Prison\"]=labels_df[\"Return to Prison\"].astype(\"category\")\n",
    "le = preprocessing.LabelEncoder()\n",
    "#print(type(features_df[\"Release Type\"]))\n",
    "features_df[\"Release Type\"] = features_df[\"Release Type\"].cat.codes\n",
    "#features_df[\"Release Age \"] = features_df[\"Release Age \"].cat.codes\n",
    "features_df['Age At Release '] = features_df['Age At Release '].cat.codes\n",
    "features_df[\"Offense Classification\"] = features_df[\"Offense Classification\"].cat.codes\n",
    "features_df[\"Offense Type\"] = features_df[\"Offense Type\"].cat.codes\n",
    "features_df[\"Target Population\"] = features_df[\"Target Population\"].cat.codes \n",
    "le.fit(labels_df[\"Return to Prison\"])\n",
    "labels_df[\"Return to Prison\"] = labels_df[\"Return to Prison\"].cat.codes\n",
    "print(labels_df)\n",
    "\n",
    "x_train, x_test, y_train, y_test = train_test_split(features_df, labels_df, test_size=0.25, random_state=0)\n",
    "print(\"done\")\n",
    "logisticRegr = LogisticRegression()\n",
    "logisticRegr.fit(x_train, y_train)\n",
    "predictions = logisticRegr.predict(x_test)\n",
    "score = logisticRegr.score(x_test, y_test)\n",
    "print(score)\n",
    "\n",
    "\n",
    "\n",
    "\n",
    "\n"
   ]
  },
  {
   "cell_type": "code",
   "execution_count": null,
   "metadata": {},
   "outputs": [],
   "source": []
  },
  {
   "cell_type": "code",
   "execution_count": null,
   "metadata": {},
   "outputs": [],
   "source": []
  },
  {
   "cell_type": "code",
   "execution_count": null,
   "metadata": {},
   "outputs": [],
   "source": []
  },
  {
   "cell_type": "code",
   "execution_count": null,
   "metadata": {},
   "outputs": [],
   "source": []
  }
 ],
 "metadata": {
  "kernelspec": {
   "display_name": "Python 3",
   "language": "python",
   "name": "python3"
  },
  "language_info": {
   "codemirror_mode": {
    "name": "ipython",
    "version": 3
   },
   "file_extension": ".py",
   "mimetype": "text/x-python",
   "name": "python",
   "nbconvert_exporter": "python",
   "pygments_lexer": "ipython3",
   "version": "3.7.6"
  }
 },
 "nbformat": 4,
 "nbformat_minor": 4
}
