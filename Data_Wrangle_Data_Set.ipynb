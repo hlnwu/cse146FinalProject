{
 "cells": [
  {
   "cell_type": "markdown",
   "metadata": {},
   "source": [
    "# COMPAS and Recidivism"
   ]
  },
  {
   "cell_type": "code",
   "execution_count": null,
   "metadata": {},
   "outputs": [],
   "source": []
  },
  {
   "cell_type": "markdown",
   "metadata": {},
   "source": [
    "## Data Wrangle"
   ]
  },
  {
   "cell_type": "markdown",
   "metadata": {},
   "source": [
    "The data set that we used can be found at: https://www.kaggle.com/danofer/compass/data#compas-scores-raw.csv<br>\n",
    "R version: https://github.com/propublica/compas-analysis/blob/master/Compas%20Analysis.ipynb"
   ]
  },
  {
   "cell_type": "code",
   "execution_count": 1,
   "metadata": {},
   "outputs": [],
   "source": [
    "import pandas as pd\n",
    "import matplotlib.pyplot as plt\n",
    "import numpy as np"
   ]
  },
  {
   "cell_type": "markdown",
   "metadata": {},
   "source": [
    "### Loading in the Data"
   ]
  },
  {
   "cell_type": "code",
   "execution_count": 2,
   "metadata": {
    "scrolled": true
   },
   "outputs": [],
   "source": [
    "# load the data set into a pandas data frame\n",
    "raw_score_df = pd.read_csv(\"compas-scores-raw.csv\")\n",
    "\n",
    "# raw_score_df.head(5) # Show the first 5 rows of the dataframe"
   ]
  },
  {
   "cell_type": "code",
   "execution_count": 3,
   "metadata": {},
   "outputs": [],
   "source": [
    "# columns that are irrelevant to our computations\n",
    "columns_to_drop = ['AssessmentID', 'Case_ID', 'Agency_Text', 'LastName', 'FirstName', 'MiddleName', \\\n",
    "                   'ScaleSet', 'AssessmentReason', 'Language', 'RecSupervisionLevelText', \\\n",
    "                   'ScoreText', 'AssessmentType', 'IsCompleted', 'IsDeleted']"
   ]
  },
  {
   "cell_type": "code",
   "execution_count": 4,
   "metadata": {},
   "outputs": [
    {
     "data": {
      "text/html": [
       "<div>\n",
       "<style scoped>\n",
       "    .dataframe tbody tr th:only-of-type {\n",
       "        vertical-align: middle;\n",
       "    }\n",
       "\n",
       "    .dataframe tbody tr th {\n",
       "        vertical-align: top;\n",
       "    }\n",
       "\n",
       "    .dataframe thead th {\n",
       "        text-align: right;\n",
       "    }\n",
       "</style>\n",
       "<table border=\"1\" class=\"dataframe\">\n",
       "  <thead>\n",
       "    <tr style=\"text-align: right;\">\n",
       "      <th></th>\n",
       "      <th>Person_ID</th>\n",
       "      <th>Sex_Code_Text</th>\n",
       "      <th>Ethnic_Code_Text</th>\n",
       "      <th>DateOfBirth</th>\n",
       "      <th>ScaleSet_ID</th>\n",
       "      <th>LegalStatus</th>\n",
       "      <th>CustodyStatus</th>\n",
       "      <th>MaritalStatus</th>\n",
       "      <th>Screening_Date</th>\n",
       "      <th>RecSupervisionLevel</th>\n",
       "      <th>Scale_ID</th>\n",
       "      <th>DisplayText</th>\n",
       "      <th>RawScore</th>\n",
       "      <th>DecileScore</th>\n",
       "    </tr>\n",
       "  </thead>\n",
       "  <tbody>\n",
       "    <tr>\n",
       "      <th>0</th>\n",
       "      <td>50844</td>\n",
       "      <td>Male</td>\n",
       "      <td>Caucasian</td>\n",
       "      <td>12/05/92</td>\n",
       "      <td>22</td>\n",
       "      <td>Pretrial</td>\n",
       "      <td>Jail Inmate</td>\n",
       "      <td>Single</td>\n",
       "      <td>1/1/13 0:00</td>\n",
       "      <td>1</td>\n",
       "      <td>7</td>\n",
       "      <td>Risk of Violence</td>\n",
       "      <td>-2.08</td>\n",
       "      <td>4</td>\n",
       "    </tr>\n",
       "    <tr>\n",
       "      <th>1</th>\n",
       "      <td>50844</td>\n",
       "      <td>Male</td>\n",
       "      <td>Caucasian</td>\n",
       "      <td>12/05/92</td>\n",
       "      <td>22</td>\n",
       "      <td>Pretrial</td>\n",
       "      <td>Jail Inmate</td>\n",
       "      <td>Single</td>\n",
       "      <td>1/1/13 0:00</td>\n",
       "      <td>1</td>\n",
       "      <td>8</td>\n",
       "      <td>Risk of Recidivism</td>\n",
       "      <td>-1.06</td>\n",
       "      <td>2</td>\n",
       "    </tr>\n",
       "    <tr>\n",
       "      <th>2</th>\n",
       "      <td>50844</td>\n",
       "      <td>Male</td>\n",
       "      <td>Caucasian</td>\n",
       "      <td>12/05/92</td>\n",
       "      <td>22</td>\n",
       "      <td>Pretrial</td>\n",
       "      <td>Jail Inmate</td>\n",
       "      <td>Single</td>\n",
       "      <td>1/1/13 0:00</td>\n",
       "      <td>1</td>\n",
       "      <td>18</td>\n",
       "      <td>Risk of Failure to Appear</td>\n",
       "      <td>15.00</td>\n",
       "      <td>1</td>\n",
       "    </tr>\n",
       "    <tr>\n",
       "      <th>3</th>\n",
       "      <td>50848</td>\n",
       "      <td>Male</td>\n",
       "      <td>Caucasian</td>\n",
       "      <td>09/16/84</td>\n",
       "      <td>22</td>\n",
       "      <td>Pretrial</td>\n",
       "      <td>Jail Inmate</td>\n",
       "      <td>Married</td>\n",
       "      <td>1/1/13 0:00</td>\n",
       "      <td>1</td>\n",
       "      <td>7</td>\n",
       "      <td>Risk of Violence</td>\n",
       "      <td>-2.84</td>\n",
       "      <td>2</td>\n",
       "    </tr>\n",
       "    <tr>\n",
       "      <th>4</th>\n",
       "      <td>50848</td>\n",
       "      <td>Male</td>\n",
       "      <td>Caucasian</td>\n",
       "      <td>09/16/84</td>\n",
       "      <td>22</td>\n",
       "      <td>Pretrial</td>\n",
       "      <td>Jail Inmate</td>\n",
       "      <td>Married</td>\n",
       "      <td>1/1/13 0:00</td>\n",
       "      <td>1</td>\n",
       "      <td>8</td>\n",
       "      <td>Risk of Recidivism</td>\n",
       "      <td>-1.50</td>\n",
       "      <td>1</td>\n",
       "    </tr>\n",
       "  </tbody>\n",
       "</table>\n",
       "</div>"
      ],
      "text/plain": [
       "   Person_ID Sex_Code_Text Ethnic_Code_Text DateOfBirth  ScaleSet_ID  \\\n",
       "0      50844          Male        Caucasian    12/05/92           22   \n",
       "1      50844          Male        Caucasian    12/05/92           22   \n",
       "2      50844          Male        Caucasian    12/05/92           22   \n",
       "3      50848          Male        Caucasian    09/16/84           22   \n",
       "4      50848          Male        Caucasian    09/16/84           22   \n",
       "\n",
       "  LegalStatus CustodyStatus MaritalStatus Screening_Date  RecSupervisionLevel  \\\n",
       "0    Pretrial   Jail Inmate        Single    1/1/13 0:00                    1   \n",
       "1    Pretrial   Jail Inmate        Single    1/1/13 0:00                    1   \n",
       "2    Pretrial   Jail Inmate        Single    1/1/13 0:00                    1   \n",
       "3    Pretrial   Jail Inmate       Married    1/1/13 0:00                    1   \n",
       "4    Pretrial   Jail Inmate       Married    1/1/13 0:00                    1   \n",
       "\n",
       "   Scale_ID                DisplayText  RawScore  DecileScore  \n",
       "0         7           Risk of Violence     -2.08            4  \n",
       "1         8         Risk of Recidivism     -1.06            2  \n",
       "2        18  Risk of Failure to Appear     15.00            1  \n",
       "3         7           Risk of Violence     -2.84            2  \n",
       "4         8         Risk of Recidivism     -1.50            1  "
      ]
     },
     "execution_count": 4,
     "metadata": {},
     "output_type": "execute_result"
    }
   ],
   "source": [
    "raw_score_clean_df = raw_score_df.drop(columns_to_drop, axis=1)\n",
    "raw_score_clean_df.head(5)"
   ]
  },
  {
   "cell_type": "code",
   "execution_count": 5,
   "metadata": {},
   "outputs": [
    {
     "data": {
      "text/plain": [
       "array(['Caucasian', 'African-American', 'Hispanic', 'Other', 'Asian',\n",
       "       'African-Am', 'Native American', 'Oriental', 'Arabic'],\n",
       "      dtype=object)"
      ]
     },
     "execution_count": 5,
     "metadata": {},
     "output_type": "execute_result"
    }
   ],
   "source": [
    "# printing out unique values of a column\n",
    "raw_score_clean_df['Ethnic_Code_Text'].unique()"
   ]
  },
  {
   "cell_type": "code",
   "execution_count": 6,
   "metadata": {},
   "outputs": [],
   "source": [
    "# replacing values with similar values\n",
    "raw_score_clean_df[\"Ethnic_Code_Text\"].replace({\"African-Am\": \"African-American\", \"Oriental\": \"Asian\"}, inplace=True)"
   ]
  },
  {
   "cell_type": "markdown",
   "metadata": {},
   "source": [
    "### Separating Data\n",
    "\n",
    "Every individual in the csv has 3 types of risk: risk of violence, risk of recidivism, and risk of failure to appear. In order not to double count, we separated the 3 risks out into 3 different data frames."
   ]
  },
  {
   "cell_type": "code",
   "execution_count": 7,
   "metadata": {},
   "outputs": [],
   "source": [
    "# each person had 3 different 'DisplayText', so we decided to split it up into 3 data frames for each type\n",
    "violence_df = raw_score_clean_df[raw_score_clean_df['DisplayText'] == 'Risk of Violence']\n",
    "recidivism_df = raw_score_clean_df[raw_score_clean_df['DisplayText'] == 'Risk of Recidivism']\n",
    "appearance_df = raw_score_clean_df[raw_score_clean_df['DisplayText'] == 'Risk of Failure to Appear']"
   ]
  },
  {
   "cell_type": "code",
   "execution_count": 8,
   "metadata": {},
   "outputs": [
    {
     "data": {
      "text/html": [
       "<div>\n",
       "<style scoped>\n",
       "    .dataframe tbody tr th:only-of-type {\n",
       "        vertical-align: middle;\n",
       "    }\n",
       "\n",
       "    .dataframe tbody tr th {\n",
       "        vertical-align: top;\n",
       "    }\n",
       "\n",
       "    .dataframe thead th {\n",
       "        text-align: right;\n",
       "    }\n",
       "</style>\n",
       "<table border=\"1\" class=\"dataframe\">\n",
       "  <thead>\n",
       "    <tr style=\"text-align: right;\">\n",
       "      <th></th>\n",
       "      <th>Person_ID</th>\n",
       "      <th>Sex_Code_Text</th>\n",
       "      <th>Ethnic_Code_Text</th>\n",
       "      <th>DateOfBirth</th>\n",
       "      <th>ScaleSet_ID</th>\n",
       "      <th>LegalStatus</th>\n",
       "      <th>CustodyStatus</th>\n",
       "      <th>MaritalStatus</th>\n",
       "      <th>Screening_Date</th>\n",
       "      <th>RecSupervisionLevel</th>\n",
       "      <th>Scale_ID</th>\n",
       "      <th>DisplayText</th>\n",
       "      <th>RawScore</th>\n",
       "      <th>DecileScore</th>\n",
       "    </tr>\n",
       "  </thead>\n",
       "  <tbody>\n",
       "    <tr>\n",
       "      <th>0</th>\n",
       "      <td>50844</td>\n",
       "      <td>Male</td>\n",
       "      <td>Caucasian</td>\n",
       "      <td>12/05/92</td>\n",
       "      <td>22</td>\n",
       "      <td>Pretrial</td>\n",
       "      <td>Jail Inmate</td>\n",
       "      <td>Single</td>\n",
       "      <td>1/1/13 0:00</td>\n",
       "      <td>1</td>\n",
       "      <td>7</td>\n",
       "      <td>Risk of Violence</td>\n",
       "      <td>-2.08</td>\n",
       "      <td>4</td>\n",
       "    </tr>\n",
       "    <tr>\n",
       "      <th>3</th>\n",
       "      <td>50848</td>\n",
       "      <td>Male</td>\n",
       "      <td>Caucasian</td>\n",
       "      <td>09/16/84</td>\n",
       "      <td>22</td>\n",
       "      <td>Pretrial</td>\n",
       "      <td>Jail Inmate</td>\n",
       "      <td>Married</td>\n",
       "      <td>1/1/13 0:00</td>\n",
       "      <td>1</td>\n",
       "      <td>7</td>\n",
       "      <td>Risk of Violence</td>\n",
       "      <td>-2.84</td>\n",
       "      <td>2</td>\n",
       "    </tr>\n",
       "    <tr>\n",
       "      <th>6</th>\n",
       "      <td>50855</td>\n",
       "      <td>Male</td>\n",
       "      <td>African-American</td>\n",
       "      <td>08/25/94</td>\n",
       "      <td>22</td>\n",
       "      <td>Pretrial</td>\n",
       "      <td>Jail Inmate</td>\n",
       "      <td>Single</td>\n",
       "      <td>1/1/13 0:00</td>\n",
       "      <td>4</td>\n",
       "      <td>7</td>\n",
       "      <td>Risk of Violence</td>\n",
       "      <td>-1.20</td>\n",
       "      <td>8</td>\n",
       "    </tr>\n",
       "    <tr>\n",
       "      <th>9</th>\n",
       "      <td>50850</td>\n",
       "      <td>Female</td>\n",
       "      <td>African-American</td>\n",
       "      <td>10/09/94</td>\n",
       "      <td>22</td>\n",
       "      <td>Pretrial</td>\n",
       "      <td>Jail Inmate</td>\n",
       "      <td>Significant Other</td>\n",
       "      <td>1/1/13 0:00</td>\n",
       "      <td>2</td>\n",
       "      <td>7</td>\n",
       "      <td>Risk of Violence</td>\n",
       "      <td>-1.29</td>\n",
       "      <td>7</td>\n",
       "    </tr>\n",
       "    <tr>\n",
       "      <th>12</th>\n",
       "      <td>50839</td>\n",
       "      <td>Female</td>\n",
       "      <td>African-American</td>\n",
       "      <td>06/29/85</td>\n",
       "      <td>22</td>\n",
       "      <td>Pretrial</td>\n",
       "      <td>Jail Inmate</td>\n",
       "      <td>Single</td>\n",
       "      <td>1/1/13 0:00</td>\n",
       "      <td>1</td>\n",
       "      <td>7</td>\n",
       "      <td>Risk of Violence</td>\n",
       "      <td>-2.90</td>\n",
       "      <td>2</td>\n",
       "    </tr>\n",
       "  </tbody>\n",
       "</table>\n",
       "</div>"
      ],
      "text/plain": [
       "    Person_ID Sex_Code_Text  Ethnic_Code_Text DateOfBirth  ScaleSet_ID  \\\n",
       "0       50844          Male         Caucasian    12/05/92           22   \n",
       "3       50848          Male         Caucasian    09/16/84           22   \n",
       "6       50855          Male  African-American    08/25/94           22   \n",
       "9       50850        Female  African-American    10/09/94           22   \n",
       "12      50839        Female  African-American    06/29/85           22   \n",
       "\n",
       "   LegalStatus CustodyStatus      MaritalStatus Screening_Date  \\\n",
       "0     Pretrial   Jail Inmate             Single    1/1/13 0:00   \n",
       "3     Pretrial   Jail Inmate            Married    1/1/13 0:00   \n",
       "6     Pretrial   Jail Inmate             Single    1/1/13 0:00   \n",
       "9     Pretrial   Jail Inmate  Significant Other    1/1/13 0:00   \n",
       "12    Pretrial   Jail Inmate             Single    1/1/13 0:00   \n",
       "\n",
       "    RecSupervisionLevel  Scale_ID       DisplayText  RawScore  DecileScore  \n",
       "0                     1         7  Risk of Violence     -2.08            4  \n",
       "3                     1         7  Risk of Violence     -2.84            2  \n",
       "6                     4         7  Risk of Violence     -1.20            8  \n",
       "9                     2         7  Risk of Violence     -1.29            7  \n",
       "12                    1         7  Risk of Violence     -2.90            2  "
      ]
     },
     "execution_count": 8,
     "metadata": {},
     "output_type": "execute_result"
    }
   ],
   "source": [
    "violence_df.head(5)"
   ]
  },
  {
   "cell_type": "markdown",
   "metadata": {},
   "source": [
    "### Stacked Bar Plot for Ethnicity and Gender"
   ]
  },
  {
   "cell_type": "code",
   "execution_count": 9,
   "metadata": {},
   "outputs": [
    {
     "data": {
      "text/plain": [
       "Ethnic_Code_Text  Sex_Code_Text\n",
       "African-American  Female           1861\n",
       "                  Male             7162\n",
       "Arabic            Female              1\n",
       "                  Male               24\n",
       "Asian             Female             22\n",
       "                  Male               99\n",
       "Caucasian         Female           1811\n",
       "                  Male             5450\n",
       "Hispanic          Female            577\n",
       "                  Male             2337\n",
       "Native American   Female             20\n",
       "                  Male               53\n",
       "Other             Female            151\n",
       "                  Male              713\n",
       "Name: Person_ID, dtype: int64"
      ]
     },
     "execution_count": 9,
     "metadata": {},
     "output_type": "execute_result"
    }
   ],
   "source": [
    "# gets the ethnicity count and the gender count within each ethnicity group\n",
    "ethnic_gender_series = violence_df.groupby(['Ethnic_Code_Text', 'Sex_Code_Text']).count()['Person_ID']\n",
    "ethnic_gender_series"
   ]
  },
  {
   "cell_type": "code",
   "execution_count": 10,
   "metadata": {},
   "outputs": [
    {
     "name": "stdout",
     "output_type": "stream",
     "text": [
      "[7162, 24, 99, 5450, 2337, 53, 713]\n",
      "[1861, 1, 22, 1811, 577, 20, 151]\n"
     ]
    }
   ],
   "source": [
    "# separating list out by male and female to create stacked bar plot\n",
    "female_count_list = []\n",
    "male_count_list = []\n",
    "for i in range(ethnic_gender_series.size):\n",
    "    idx = i\n",
    "    if (idx) % 2 == 0:\n",
    "        female_count_list.append(ethnic_gender_series[idx])\n",
    "    else:\n",
    "        male_count_list.append(ethnic_gender_series[idx])\n",
    "        \n",
    "print(male_count_list)\n",
    "print(female_count_list)"
   ]
  },
  {
   "cell_type": "markdown",
   "metadata": {},
   "source": [
    "reference: https://matplotlib.org/3.1.1/gallery/lines_bars_and_markers/bar_stacked.html"
   ]
  },
  {
   "cell_type": "code",
   "execution_count": 11,
   "metadata": {},
   "outputs": [
    {
     "data": {
      "image/png": "[encoded data removed]",
      "text/plain": [
       "<Figure size 432x288 with 1 Axes>"
      ]
     },
     "metadata": {
      "needs_background": "light"
     },
     "output_type": "display_data"
    }
   ],
   "source": [
    "# create the stacked bar plot\n",
    "width = 0.5\n",
    "ind = np.arange(7) \n",
    "\n",
    "p1 = plt.bar(ind, male_count_list, width)\n",
    "p2 = plt.bar(ind, female_count_list, width, bottom=male_count_list)\n",
    "\n",
    "plt.title('Count by Ethnicity and Gender')\n",
    "plt.ylabel('Number of Convicted')\n",
    "plt.xticks(ind, ('African-American', 'Arabic', 'Asian', 'Caucasian', 'Hispanic', 'Native American', 'Other'), rotation=45)\n",
    "plt.yticks(np.arange(0, 10000, 1000))\n",
    "plt.legend((p1[0], p2[0]), ('Male', 'Female'))\n",
    "\n",
    "plt.show()"
   ]
  },
  {
   "cell_type": "markdown",
   "metadata": {},
   "source": [
    "### Ethnic Groups Decile Score Average"
   ]
  },
  {
   "cell_type": "code",
   "execution_count": 12,
   "metadata": {},
   "outputs": [
    {
     "data": {
      "text/plain": [
       "[4.183863460046548,\n",
       " 2.88,\n",
       " 2.0991735537190084,\n",
       " 2.602809530367718,\n",
       " 2.57035003431709,\n",
       " 3.671232876712329,\n",
       " 2.5949074074074074]"
      ]
     },
     "execution_count": 12,
     "metadata": {},
     "output_type": "execute_result"
    }
   ],
   "source": [
    "# grouping by ethnic group and decile score for risk of violence\n",
    "ethnicities = ['African-American', 'Arabic', 'Asian', 'Caucasian', 'Hispanic', 'Native American', 'Other']\n",
    "violence_averages = []\n",
    "\n",
    "for entry in ethnicities:\n",
    "    temp = violence_df.loc[violence_df[\"Ethnic_Code_Text\"] == entry]\n",
    "    violence_averages.append(temp['DecileScore'].mean())\n",
    "\n",
    "violence_averages"
   ]
  },
  {
   "cell_type": "code",
   "execution_count": 13,
   "metadata": {},
   "outputs": [
    {
     "data": {
      "text/html": [
       "<div>\n",
       "<style scoped>\n",
       "    .dataframe tbody tr th:only-of-type {\n",
       "        vertical-align: middle;\n",
       "    }\n",
       "\n",
       "    .dataframe tbody tr th {\n",
       "        vertical-align: top;\n",
       "    }\n",
       "\n",
       "    .dataframe thead th {\n",
       "        text-align: right;\n",
       "    }\n",
       "</style>\n",
       "<table border=\"1\" class=\"dataframe\">\n",
       "  <thead>\n",
       "    <tr style=\"text-align: right;\">\n",
       "      <th></th>\n",
       "      <th>Person_ID</th>\n",
       "      <th>Sex_Code_Text</th>\n",
       "      <th>Ethnic_Code_Text</th>\n",
       "      <th>DateOfBirth</th>\n",
       "      <th>ScaleSet_ID</th>\n",
       "      <th>LegalStatus</th>\n",
       "      <th>CustodyStatus</th>\n",
       "      <th>MaritalStatus</th>\n",
       "      <th>Screening_Date</th>\n",
       "      <th>RecSupervisionLevel</th>\n",
       "      <th>Scale_ID</th>\n",
       "      <th>DisplayText</th>\n",
       "      <th>RawScore</th>\n",
       "      <th>DecileScore</th>\n",
       "    </tr>\n",
       "  </thead>\n",
       "  <tbody>\n",
       "    <tr>\n",
       "      <th>1</th>\n",
       "      <td>50844</td>\n",
       "      <td>Male</td>\n",
       "      <td>Caucasian</td>\n",
       "      <td>12/05/92</td>\n",
       "      <td>22</td>\n",
       "      <td>Pretrial</td>\n",
       "      <td>Jail Inmate</td>\n",
       "      <td>Single</td>\n",
       "      <td>1/1/13 0:00</td>\n",
       "      <td>1</td>\n",
       "      <td>8</td>\n",
       "      <td>Risk of Recidivism</td>\n",
       "      <td>-1.06</td>\n",
       "      <td>2</td>\n",
       "    </tr>\n",
       "    <tr>\n",
       "      <th>4</th>\n",
       "      <td>50848</td>\n",
       "      <td>Male</td>\n",
       "      <td>Caucasian</td>\n",
       "      <td>09/16/84</td>\n",
       "      <td>22</td>\n",
       "      <td>Pretrial</td>\n",
       "      <td>Jail Inmate</td>\n",
       "      <td>Married</td>\n",
       "      <td>1/1/13 0:00</td>\n",
       "      <td>1</td>\n",
       "      <td>8</td>\n",
       "      <td>Risk of Recidivism</td>\n",
       "      <td>-1.50</td>\n",
       "      <td>1</td>\n",
       "    </tr>\n",
       "    <tr>\n",
       "      <th>7</th>\n",
       "      <td>50855</td>\n",
       "      <td>Male</td>\n",
       "      <td>African-American</td>\n",
       "      <td>08/25/94</td>\n",
       "      <td>22</td>\n",
       "      <td>Pretrial</td>\n",
       "      <td>Jail Inmate</td>\n",
       "      <td>Single</td>\n",
       "      <td>1/1/13 0:00</td>\n",
       "      <td>4</td>\n",
       "      <td>8</td>\n",
       "      <td>Risk of Recidivism</td>\n",
       "      <td>0.18</td>\n",
       "      <td>8</td>\n",
       "    </tr>\n",
       "    <tr>\n",
       "      <th>10</th>\n",
       "      <td>50850</td>\n",
       "      <td>Female</td>\n",
       "      <td>African-American</td>\n",
       "      <td>10/09/94</td>\n",
       "      <td>22</td>\n",
       "      <td>Pretrial</td>\n",
       "      <td>Jail Inmate</td>\n",
       "      <td>Significant Other</td>\n",
       "      <td>1/1/13 0:00</td>\n",
       "      <td>2</td>\n",
       "      <td>8</td>\n",
       "      <td>Risk of Recidivism</td>\n",
       "      <td>-0.53</td>\n",
       "      <td>6</td>\n",
       "    </tr>\n",
       "    <tr>\n",
       "      <th>13</th>\n",
       "      <td>50839</td>\n",
       "      <td>Female</td>\n",
       "      <td>African-American</td>\n",
       "      <td>06/29/85</td>\n",
       "      <td>22</td>\n",
       "      <td>Pretrial</td>\n",
       "      <td>Jail Inmate</td>\n",
       "      <td>Single</td>\n",
       "      <td>1/1/13 0:00</td>\n",
       "      <td>1</td>\n",
       "      <td>8</td>\n",
       "      <td>Risk of Recidivism</td>\n",
       "      <td>-1.55</td>\n",
       "      <td>2</td>\n",
       "    </tr>\n",
       "  </tbody>\n",
       "</table>\n",
       "</div>"
      ],
      "text/plain": [
       "    Person_ID Sex_Code_Text  Ethnic_Code_Text DateOfBirth  ScaleSet_ID  \\\n",
       "1       50844          Male         Caucasian    12/05/92           22   \n",
       "4       50848          Male         Caucasian    09/16/84           22   \n",
       "7       50855          Male  African-American    08/25/94           22   \n",
       "10      50850        Female  African-American    10/09/94           22   \n",
       "13      50839        Female  African-American    06/29/85           22   \n",
       "\n",
       "   LegalStatus CustodyStatus      MaritalStatus Screening_Date  \\\n",
       "1     Pretrial   Jail Inmate             Single    1/1/13 0:00   \n",
       "4     Pretrial   Jail Inmate            Married    1/1/13 0:00   \n",
       "7     Pretrial   Jail Inmate             Single    1/1/13 0:00   \n",
       "10    Pretrial   Jail Inmate  Significant Other    1/1/13 0:00   \n",
       "13    Pretrial   Jail Inmate             Single    1/1/13 0:00   \n",
       "\n",
       "    RecSupervisionLevel  Scale_ID         DisplayText  RawScore  DecileScore  \n",
       "1                     1         8  Risk of Recidivism     -1.06            2  \n",
       "4                     1         8  Risk of Recidivism     -1.50            1  \n",
       "7                     4         8  Risk of Recidivism      0.18            8  \n",
       "10                    2         8  Risk of Recidivism     -0.53            6  \n",
       "13                    1         8  Risk of Recidivism     -1.55            2  "
      ]
     },
     "execution_count": 13,
     "metadata": {},
     "output_type": "execute_result"
    }
   ],
   "source": [
    "recidivism_df.head(5)"
   ]
  },
  {
   "cell_type": "code",
   "execution_count": 14,
   "metadata": {},
   "outputs": [
    {
     "data": {
      "text/html": [
       "<div>\n",
       "<style scoped>\n",
       "    .dataframe tbody tr th:only-of-type {\n",
       "        vertical-align: middle;\n",
       "    }\n",
       "\n",
       "    .dataframe tbody tr th {\n",
       "        vertical-align: top;\n",
       "    }\n",
       "\n",
       "    .dataframe thead th {\n",
       "        text-align: right;\n",
       "    }\n",
       "</style>\n",
       "<table border=\"1\" class=\"dataframe\">\n",
       "  <thead>\n",
       "    <tr style=\"text-align: right;\">\n",
       "      <th></th>\n",
       "      <th>Person_ID</th>\n",
       "      <th>Sex_Code_Text</th>\n",
       "      <th>Ethnic_Code_Text</th>\n",
       "      <th>DateOfBirth</th>\n",
       "      <th>ScaleSet_ID</th>\n",
       "      <th>LegalStatus</th>\n",
       "      <th>CustodyStatus</th>\n",
       "      <th>MaritalStatus</th>\n",
       "      <th>Screening_Date</th>\n",
       "      <th>RecSupervisionLevel</th>\n",
       "      <th>Scale_ID</th>\n",
       "      <th>DisplayText</th>\n",
       "      <th>RawScore</th>\n",
       "      <th>DecileScore</th>\n",
       "    </tr>\n",
       "  </thead>\n",
       "  <tbody>\n",
       "    <tr>\n",
       "      <th>2</th>\n",
       "      <td>50844</td>\n",
       "      <td>Male</td>\n",
       "      <td>Caucasian</td>\n",
       "      <td>12/05/92</td>\n",
       "      <td>22</td>\n",
       "      <td>Pretrial</td>\n",
       "      <td>Jail Inmate</td>\n",
       "      <td>Single</td>\n",
       "      <td>1/1/13 0:00</td>\n",
       "      <td>1</td>\n",
       "      <td>18</td>\n",
       "      <td>Risk of Failure to Appear</td>\n",
       "      <td>15.0</td>\n",
       "      <td>1</td>\n",
       "    </tr>\n",
       "    <tr>\n",
       "      <th>5</th>\n",
       "      <td>50848</td>\n",
       "      <td>Male</td>\n",
       "      <td>Caucasian</td>\n",
       "      <td>09/16/84</td>\n",
       "      <td>22</td>\n",
       "      <td>Pretrial</td>\n",
       "      <td>Jail Inmate</td>\n",
       "      <td>Married</td>\n",
       "      <td>1/1/13 0:00</td>\n",
       "      <td>1</td>\n",
       "      <td>18</td>\n",
       "      <td>Risk of Failure to Appear</td>\n",
       "      <td>19.0</td>\n",
       "      <td>3</td>\n",
       "    </tr>\n",
       "    <tr>\n",
       "      <th>8</th>\n",
       "      <td>50855</td>\n",
       "      <td>Male</td>\n",
       "      <td>African-American</td>\n",
       "      <td>08/25/94</td>\n",
       "      <td>22</td>\n",
       "      <td>Pretrial</td>\n",
       "      <td>Jail Inmate</td>\n",
       "      <td>Single</td>\n",
       "      <td>1/1/13 0:00</td>\n",
       "      <td>4</td>\n",
       "      <td>18</td>\n",
       "      <td>Risk of Failure to Appear</td>\n",
       "      <td>13.0</td>\n",
       "      <td>1</td>\n",
       "    </tr>\n",
       "    <tr>\n",
       "      <th>11</th>\n",
       "      <td>50850</td>\n",
       "      <td>Female</td>\n",
       "      <td>African-American</td>\n",
       "      <td>10/09/94</td>\n",
       "      <td>22</td>\n",
       "      <td>Pretrial</td>\n",
       "      <td>Jail Inmate</td>\n",
       "      <td>Significant Other</td>\n",
       "      <td>1/1/13 0:00</td>\n",
       "      <td>2</td>\n",
       "      <td>18</td>\n",
       "      <td>Risk of Failure to Appear</td>\n",
       "      <td>11.0</td>\n",
       "      <td>1</td>\n",
       "    </tr>\n",
       "    <tr>\n",
       "      <th>14</th>\n",
       "      <td>50839</td>\n",
       "      <td>Female</td>\n",
       "      <td>African-American</td>\n",
       "      <td>06/29/85</td>\n",
       "      <td>22</td>\n",
       "      <td>Pretrial</td>\n",
       "      <td>Jail Inmate</td>\n",
       "      <td>Single</td>\n",
       "      <td>1/1/13 0:00</td>\n",
       "      <td>1</td>\n",
       "      <td>18</td>\n",
       "      <td>Risk of Failure to Appear</td>\n",
       "      <td>16.0</td>\n",
       "      <td>2</td>\n",
       "    </tr>\n",
       "  </tbody>\n",
       "</table>\n",
       "</div>"
      ],
      "text/plain": [
       "    Person_ID Sex_Code_Text  Ethnic_Code_Text DateOfBirth  ScaleSet_ID  \\\n",
       "2       50844          Male         Caucasian    12/05/92           22   \n",
       "5       50848          Male         Caucasian    09/16/84           22   \n",
       "8       50855          Male  African-American    08/25/94           22   \n",
       "11      50850        Female  African-American    10/09/94           22   \n",
       "14      50839        Female  African-American    06/29/85           22   \n",
       "\n",
       "   LegalStatus CustodyStatus      MaritalStatus Screening_Date  \\\n",
       "2     Pretrial   Jail Inmate             Single    1/1/13 0:00   \n",
       "5     Pretrial   Jail Inmate            Married    1/1/13 0:00   \n",
       "8     Pretrial   Jail Inmate             Single    1/1/13 0:00   \n",
       "11    Pretrial   Jail Inmate  Significant Other    1/1/13 0:00   \n",
       "14    Pretrial   Jail Inmate             Single    1/1/13 0:00   \n",
       "\n",
       "    RecSupervisionLevel  Scale_ID                DisplayText  RawScore  \\\n",
       "2                     1        18  Risk of Failure to Appear      15.0   \n",
       "5                     1        18  Risk of Failure to Appear      19.0   \n",
       "8                     4        18  Risk of Failure to Appear      13.0   \n",
       "11                    2        18  Risk of Failure to Appear      11.0   \n",
       "14                    1        18  Risk of Failure to Appear      16.0   \n",
       "\n",
       "    DecileScore  \n",
       "2             1  \n",
       "5             3  \n",
       "8             1  \n",
       "11            1  \n",
       "14            2  "
      ]
     },
     "execution_count": 14,
     "metadata": {},
     "output_type": "execute_result"
    }
   ],
   "source": [
    "appearance_df.head(5)"
   ]
  },
  {
   "cell_type": "code",
   "execution_count": 15,
   "metadata": {},
   "outputs": [
    {
     "data": {
      "text/plain": [
       "[5.323063282721932,\n",
       " 3.84,\n",
       " 2.644628099173554,\n",
       " 3.587660101914337,\n",
       " 3.3126286890871652,\n",
       " 5.287671232876712,\n",
       " 2.8668981481481484]"
      ]
     },
     "execution_count": 15,
     "metadata": {},
     "output_type": "execute_result"
    }
   ],
   "source": [
    "# grouping by ethnic group and decile score for risk of recidivism\n",
    "ethnicities = ['African-American', 'Arabic', 'Asian', 'Caucasian', 'Hispanic', 'Native American', 'Other']\n",
    "recidivism_averages = []\n",
    "\n",
    "for entry in ethnicities:\n",
    "    temp = recidivism_df.loc[recidivism_df[\"Ethnic_Code_Text\"] == entry]\n",
    "    recidivism_averages.append(temp['DecileScore'].mean())\n",
    "\n",
    "recidivism_averages"
   ]
  },
  {
   "cell_type": "code",
   "execution_count": 16,
   "metadata": {},
   "outputs": [
    {
     "data": {
      "text/plain": [
       "[3.3683918873988694,\n",
       " 2.68,\n",
       " 2.4958677685950414,\n",
       " 3.1342790249276957,\n",
       " 2.671585449553878,\n",
       " 3.191780821917808,\n",
       " 2.068287037037037]"
      ]
     },
     "execution_count": 16,
     "metadata": {},
     "output_type": "execute_result"
    }
   ],
   "source": [
    "# grouping by ethnic group and decile score for risk of failure to appear\n",
    "ethnicities = ['African-American', 'Arabic', 'Asian', 'Caucasian', 'Hispanic', 'Native American', 'Other']\n",
    "appearance_averages = []\n",
    "\n",
    "for entry in ethnicities:\n",
    "    temp = appearance_df.loc[appearance_df[\"Ethnic_Code_Text\"] == entry]\n",
    "    appearance_averages.append(temp['DecileScore'].mean())\n",
    "\n",
    "appearance_averages"
   ]
  },
  {
   "cell_type": "code",
   "execution_count": 19,
   "metadata": {},
   "outputs": [
    {
     "data": {
      "image/png": "[encoded data removed]",
      "text/plain": [
       "<Figure size 432x288 with 1 Axes>"
      ]
     },
     "metadata": {
      "needs_background": "light"
     },
     "output_type": "display_data"
    }
   ],
   "source": [
    "# create a line plot for averages\n",
    "ind = np.arange(7) \n",
    "\n",
    "x_label = 'Ethnic Group'\n",
    "y_label = 'Decile Score'\n",
    "plt.title('Ethnic Groups Decile Score Average')\n",
    "plt.xlabel(x_label)\n",
    "plt.ylabel(y_label)\n",
    "plt.xticks(ind, ('African-American', 'Arabic', 'Asian', 'Caucasian', 'Hispanic', 'Native American', 'Other'), rotation=45)\n",
    "plt.yticks(np.arange(0, 10, 1))\n",
    "\n",
    "plt.scatter(ind, violence_averages, color='blue', label='Risk of Violence')\n",
    "plt.plot(ind, violence_averages, color='blue')\n",
    "plt.scatter(ind, recidivism_averages, color='red', label='Risk of Recidivsm')\n",
    "plt.plot(ind, recidivism_averages, color='red')\n",
    "plt.scatter(ind, appearance_averages, color='purple', label='Risk of Failure of Appear')\n",
    "plt.plot(ind, appearance_averages, color='purple')\n",
    "plt.legend()\n",
    "\n",
    "plt.show()"
   ]
  },
  {
   "cell_type": "code",
   "execution_count": null,
   "metadata": {},
   "outputs": [],
   "source": [
    "import numpy as np\n",
    "import pandas as pd\n",
    "from sklearn.model_selection import train_test_split\n",
    "from sklearn.model_selection import train_test_split\n",
    "from sklearn import preprocessing\n",
    "from sklearn.linear_model import LinearRegression\n",
    "import math\n",
    "from datetime import datetime, timedelta\n",
    "import matplotlib.pyplot as plt\n",
    "from sklearn import metrics\n",
    "from matplotlib import style\n",
    "import matplotlib.pyplot as plt\n",
    "data = pd.read_csv(\"cox-violent-parsed_filter.csv\")\n",
    "#x= np.array(raw_score_df.drop([],1));\n",
    "#x=preprocessing.scale(x)\n",
    "#raw_score_df.dropna(inplace=True)\n",
    "#X_train,X_test,y_train,y_test=train_test_split(X,y,test_size=0.3)\n",
    "#clf=LinearRegression()\n",
    "#LinearRegression(copy_X=True, fit_intercept=True, normalize=False)\n",
    "#clf.fit(X_train,y_train)\n",
    "#accuracy=clf.score(X_test,y_test)\n",
    "#accuracy=accuracy*100\n",
    "#accuracy = float(\"{0:.2f}\".format(accuracy))\n",
    "#print('Accuracy is:',accuracy,'%')\n",
    "#"
   ]
  }
 ],
 "metadata": {
  "kernelspec": {
   "display_name": "Python 3",
   "language": "python",
   "name": "python3"
  },
  "language_info": {
   "codemirror_mode": {
    "name": "ipython",
    "version": 3
   },
   "file_extension": ".py",
   "mimetype": "text/x-python",
   "name": "python",
   "nbconvert_exporter": "python",
   "pygments_lexer": "ipython3",
   "version": "3.7.3"
  }
 },
 "nbformat": 4,
 "nbformat_minor": 4
}
